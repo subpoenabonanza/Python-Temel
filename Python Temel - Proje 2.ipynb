{
 "cells": [
  {
   "cell_type": "code",
   "execution_count": null,
   "id": "cadc9e73",
   "metadata": {},
   "outputs": [],
   "source": [
    "def anti(input):\n",
    "    output = []\n",
    "    for i in input[::-1]:\n",
    "        for j in range(1):\n",
    "            output.append(i[::-1])\n",
    "    return output"
   ]
  }
 ],
 "metadata": {
  "kernelspec": {
   "display_name": "Python 3 (ipykernel)",
   "language": "python",
   "name": "python3"
  },
  "language_info": {
   "codemirror_mode": {
    "name": "ipython",
    "version": 3
   },
   "file_extension": ".py",
   "mimetype": "text/x-python",
   "name": "python",
   "nbconvert_exporter": "python",
   "pygments_lexer": "ipython3",
   "version": "3.9.7"
  }
 },
 "nbformat": 4,
 "nbformat_minor": 5
}
