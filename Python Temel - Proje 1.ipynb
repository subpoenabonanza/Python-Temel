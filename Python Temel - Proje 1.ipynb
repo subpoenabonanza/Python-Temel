{
 "cells": [
  {
   "cell_type": "code",
   "execution_count": null,
   "id": "65d2a3c7",
   "metadata": {},
   "outputs": [],
   "source": [
    "from typing import List, Any, Iterable\n",
    "\n",
    "\n",
    "def flatten_recursive(lst: List[Any]) -> Iterable[Any]:\n",
    "    \"\"\"Flatten a list using recursion.\"\"\"\n",
    "    for item in lst:\n",
    "        if isinstance(item, list):\n",
    "            yield from flatten_recursive(item)\n",
    "        else:\n",
    "            yield item\n",
    "\n",
    "def test_flatten_recursive():\n",
    "    lst = [[1, 3], [2, 5], 1]\n",
    "\n",
    "    assert list(flatten_recursive(lst)) == [1, 3, 2, 5, 1]"
   ]
  }
 ],
 "metadata": {
  "kernelspec": {
   "display_name": "Python 3 (ipykernel)",
   "language": "python",
   "name": "python3"
  },
  "language_info": {
   "codemirror_mode": {
    "name": "ipython",
    "version": 3
   },
   "file_extension": ".py",
   "mimetype": "text/x-python",
   "name": "python",
   "nbconvert_exporter": "python",
   "pygments_lexer": "ipython3",
   "version": "3.9.7"
  }
 },
 "nbformat": 4,
 "nbformat_minor": 5
}
